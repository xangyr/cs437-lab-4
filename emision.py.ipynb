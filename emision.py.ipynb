{
 "cells": [
  {
   "cell_type": "markdown",
   "id": "58da4045",
   "metadata": {},
   "source": [
    "**Note:** We let the publisher run for 5 mins and collect 400 rows of data. This is not the complete dataset but it's enough to get visulization to the data."
   ]
  },
  {
   "cell_type": "code",
   "execution_count": 71,
   "id": "c701f0cd",
   "metadata": {},
   "outputs": [
    {
     "name": "stdout",
     "output_type": "stream",
     "text": [
      "here\n"
     ]
    },
    {
     "data": {
      "text/html": [
       "<div>\n",
       "<style scoped>\n",
       "    .dataframe tbody tr th:only-of-type {\n",
       "        vertical-align: middle;\n",
       "    }\n",
       "\n",
       "    .dataframe tbody tr th {\n",
       "        vertical-align: top;\n",
       "    }\n",
       "\n",
       "    .dataframe thead th {\n",
       "        text-align: right;\n",
       "    }\n",
       "</style>\n",
       "<table border=\"1\" class=\"dataframe\">\n",
       "  <thead>\n",
       "    <tr style=\"text-align: right;\">\n",
       "      <th></th>\n",
       "      <th>car</th>\n",
       "      <th>vehicle_co2</th>\n",
       "      <th>__dt</th>\n",
       "    </tr>\n",
       "  </thead>\n",
       "  <tbody>\n",
       "    <tr>\n",
       "      <th>0</th>\n",
       "      <td>0</td>\n",
       "      <td>5843.88</td>\n",
       "      <td>2022-04-20 00:00:00.000</td>\n",
       "    </tr>\n",
       "    <tr>\n",
       "      <th>1</th>\n",
       "      <td>1</td>\n",
       "      <td>0.00</td>\n",
       "      <td>2022-04-20 00:00:00.000</td>\n",
       "    </tr>\n",
       "    <tr>\n",
       "      <th>2</th>\n",
       "      <td>0</td>\n",
       "      <td>7523.47</td>\n",
       "      <td>2022-04-20 00:00:00.000</td>\n",
       "    </tr>\n",
       "    <tr>\n",
       "      <th>3</th>\n",
       "      <td>3</td>\n",
       "      <td>8761.14</td>\n",
       "      <td>2022-04-20 00:00:00.000</td>\n",
       "    </tr>\n",
       "    <tr>\n",
       "      <th>4</th>\n",
       "      <td>4</td>\n",
       "      <td>9000.72</td>\n",
       "      <td>2022-04-20 00:00:00.000</td>\n",
       "    </tr>\n",
       "    <tr>\n",
       "      <th>...</th>\n",
       "      <td>...</td>\n",
       "      <td>...</td>\n",
       "      <td>...</td>\n",
       "    </tr>\n",
       "    <tr>\n",
       "      <th>167</th>\n",
       "      <td>1</td>\n",
       "      <td>0.00</td>\n",
       "      <td>2022-04-20 00:00:00.000</td>\n",
       "    </tr>\n",
       "    <tr>\n",
       "      <th>168</th>\n",
       "      <td>0</td>\n",
       "      <td>5150.96</td>\n",
       "      <td>2022-04-20 00:00:00.000</td>\n",
       "    </tr>\n",
       "    <tr>\n",
       "      <th>169</th>\n",
       "      <td>3</td>\n",
       "      <td>2760.53</td>\n",
       "      <td>2022-04-20 00:00:00.000</td>\n",
       "    </tr>\n",
       "    <tr>\n",
       "      <th>170</th>\n",
       "      <td>3</td>\n",
       "      <td>0.00</td>\n",
       "      <td>2022-04-20 00:00:00.000</td>\n",
       "    </tr>\n",
       "    <tr>\n",
       "      <th>171</th>\n",
       "      <td>3</td>\n",
       "      <td>0.00</td>\n",
       "      <td>2022-04-20 00:00:00.000</td>\n",
       "    </tr>\n",
       "  </tbody>\n",
       "</table>\n",
       "<p>172 rows × 3 columns</p>\n",
       "</div>"
      ],
      "text/plain": [
       "     car  vehicle_co2                     __dt\n",
       "0      0      5843.88  2022-04-20 00:00:00.000\n",
       "1      1         0.00  2022-04-20 00:00:00.000\n",
       "2      0      7523.47  2022-04-20 00:00:00.000\n",
       "3      3      8761.14  2022-04-20 00:00:00.000\n",
       "4      4      9000.72  2022-04-20 00:00:00.000\n",
       "..   ...          ...                      ...\n",
       "167    1         0.00  2022-04-20 00:00:00.000\n",
       "168    0      5150.96  2022-04-20 00:00:00.000\n",
       "169    3      2760.53  2022-04-20 00:00:00.000\n",
       "170    3         0.00  2022-04-20 00:00:00.000\n",
       "171    3         0.00  2022-04-20 00:00:00.000\n",
       "\n",
       "[172 rows x 3 columns]"
      ]
     },
     "execution_count": 71,
     "metadata": {},
     "output_type": "execute_result"
    }
   ],
   "source": [
    "import boto3\n",
    "import pandas as pd\n",
    "from matplotlib import pyplot as plt\n",
    "\n",
    "# create IoT Analytics client\n",
    "client = boto3.client('iotanalytics')\n",
    "\n",
    "#after running the code portion above run the code below with your own dataset\n",
    "\n",
    "dataset = \"carDataset\"\n",
    "dataset_url = client.get_dataset_content(datasetName = dataset)['entries'][0]['dataURI']\n",
    "\n",
    "# start working with the data\n",
    "\n",
    "df = pd.read_csv(dataset_url)\n",
    "print('here')\n",
    "df.rename(columns = {'emission':'vehicle_CO2'})\n",
    "df\n"
   ]
  },
  {
   "cell_type": "markdown",
   "id": "4cbe5615",
   "metadata": {},
   "source": [
    "## Max CO2 Emission Per Vehicle\n",
    "- let the terminal run, collect x number of rows. Identify the max emission in this time frame\n",
    "- monitor emision for CO2, track the max CO2. identify any car that is emitting more"
   ]
  },
  {
   "cell_type": "code",
   "execution_count": 73,
   "id": "0f9cd03f",
   "metadata": {},
   "outputs": [
    {
     "name": "stdout",
     "output_type": "stream",
     "text": [
      "Vehicle 0 max CO2 emission: 9975.05\n",
      "Vehicle 1 max CO2 emission: 9460.68\n",
      "Vehicle 2 max CO2 emission: 11307.68\n",
      "Vehicle 3 max CO2 emission: 9337.84\n",
      "Vehicle 4 max CO2 emission: 15216.78\n"
     ]
    },
    {
     "data": {
      "image/png": "[encoded data removed]",
      "text/plain": [
       "<Figure size 432x288 with 1 Axes>"
      ]
     },
     "metadata": {
      "needs_background": "light"
     },
     "output_type": "display_data"
    }
   ],
   "source": [
    "import matplotlib.pyplot as plt\n",
    "import numpy as np\n",
    "#df = pd.read_csv('./vehicle_data.csv')\n",
    "max_CO2_0 = max(df.loc[df['car'] == 0]['vehicle_co2'])\n",
    "max_CO2_1 = max(df.loc[df['car'] == 1]['vehicle_co2'])\n",
    "max_CO2_2 = max(df.loc[df['car'] == 2]['vehicle_co2'])\n",
    "max_CO2_3 = max(df.loc[df['car'] == 3]['vehicle_co2'])\n",
    "max_CO2_4 = max(df.loc[df['car'] == 4]['vehicle_co2'])\n",
    "\n",
    "y = [max_CO2_0,max_CO2_1,max_CO2_2,max_CO2_3,max_CO2_4 ]\n",
    "max_num_df = pd.DataFrame({'Vehicle Number':['0', '1', '2','3','4'], 'Max CO2 Emissions':[max_CO2_0,max_CO2_1,max_CO2_2,max_CO2_3,max_CO2_4 ]})\n",
    "ax = max_num_df.plot.bar(x='Vehicle Number', y='Max CO2 Emissions', rot=0)\n",
    "ax.set_ylabel('Max CO2 Emissions')\n",
    "ax.set_title('Max CO2 Emissions Per Vehicle')\n",
    "\n",
    "for i in range(5):\n",
    "    print('Vehicle {} max CO2 emission: {}'.format(str(i),y[i]))\n",
    "\n"
   ]
  },
  {
   "cell_type": "markdown",
   "id": "d4e376a9",
   "metadata": {},
   "source": [
    "## Max CO2 emissions over time\n",
    "- Get the running maximum CO2 emission for each vehicle over time\n",
    "### Observations\n",
    "    - Vehicle 4 has the largest max CO2 emissions level over time\n",
    "    - By looking at this data, we can see the upper boundaries for the maximum CO2 emission for each vehicle and maximum emission over multiple timesteps. We can see when is the maximum boundaries increasing and when it stays the same."
   ]
  },
  {
   "cell_type": "code",
   "execution_count": 74,
   "id": "d84cb18e",
   "metadata": {},
   "outputs": [
    {
     "data": {
      "image/png": "[encoded data removed]",
      "text/plain": [
       "<Figure size 432x288 with 1 Axes>"
      ]
     },
     "metadata": {
      "needs_background": "light"
     },
     "output_type": "display_data"
    }
   ],
   "source": [
    "#df = pd.read_csv('./vehicle_data.csv')\n",
    "\n",
    "for i in range(5):\n",
    "    cur_emission = df.loc[df['car'] == i]['vehicle_co2']\n",
    "    s = pd.Series(cur_emission)\n",
    "    cur_emission = s.cummax().values.tolist()\n",
    "    plt.plot(np.arange(len(cur_emission)),cur_emission , label = \"Vehicle {}\".format(i))\n",
    "plt.xlabel('Timestep')\n",
    "plt.ylabel('Max CO2 Emission')\n",
    "plt.title('Max CO2 Emissions Over Time')\n",
    "plt.legend()\n",
    "plt.show()\n"
   ]
  },
  {
   "cell_type": "code",
   "execution_count": null,
   "id": "a2fce6c2",
   "metadata": {},
   "outputs": [],
   "source": []
  }
 ],
 "metadata": {
  "kernelspec": {
   "display_name": "conda_chainer_p36",
   "language": "python",
   "name": "conda_chainer_p36"
  },
  "language_info": {
   "codemirror_mode": {
    "name": "ipython",
    "version": 3
   },
   "file_extension": ".py",
   "mimetype": "text/x-python",
   "name": "python",
   "nbconvert_exporter": "python",
   "pygments_lexer": "ipython3",
   "version": "3.6.13"
  }
 },
 "nbformat": 4,
 "nbformat_minor": 5
}
